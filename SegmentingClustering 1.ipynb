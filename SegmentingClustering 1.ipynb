{
 "cells": [
  {
   "cell_type": "markdown",
   "metadata": {},
   "source": [
    "Import and prepare"
   ]
  },
  {
   "cell_type": "code",
   "execution_count": null,
   "metadata": {},
   "outputs": [],
   "source": [
    "import pandas as pd\n",
    "import numpy as np\n",
    "import requests\n",
    "from bs4 import BeautifulSoup"
   ]
  },
  {
   "cell_type": "code",
   "execution_count": null,
   "metadata": {},
   "outputs": [],
   "source": [
    "#import wiki page\n",
    "wikipedia_link='https://en.wikipedia.org/wiki/List_of_postal_codes_of_Canada:_M'\n",
    "raw_wikipedia_page= requests.get(wikipedia_link).text"
   ]
  },
  {
   "cell_type": "code",
   "execution_count": null,
   "metadata": {},
   "outputs": [],
   "source": [
    "#import to soup and check the elements\n",
    "soup = BeautifulSoup(raw_wikipedia_page,'xml')"
   ]
  },
  {
   "cell_type": "code",
   "execution_count": null,
   "metadata": {},
   "outputs": [],
   "source": [
    "#craw the table raw\n",
    "table = soup.find('table')\n",
    "Postcode      = []\n",
    "Borough       = []\n",
    "Neighbourhood = []"
   ]
  },
  {
   "cell_type": "markdown",
   "metadata": {},
   "source": [
    "Clean up and make the data frame"
   ]
  },
  {
   "cell_type": "code",
   "execution_count": null,
   "metadata": {},
   "outputs": [],
   "source": [
    "# clean up and discard the unnecessary rows\n",
    "for tr_cell in table.find_all('tr'):\n",
    "    \n",
    "    counter = 1\n",
    "    Postcode_content      = -1\n",
    "    Borough_content       = -1\n",
    "    Neighbourhood_content = -1\n",
    "    \n",
    "    #scan and get data\n",
    "    for td_cell in tr_cell.find_all('td'):\n",
    "        if counter == 1: \n",
    "            Postcode_content = td_cell.text\n",
    "        if counter == 2: \n",
    "            Borough_content = td_cell.text\n",
    "            tag_a_Borough = td_cell.find('a')\n",
    "            \n",
    "        if counter == 3: \n",
    "            Neighbourhood_content = str(td_cell.text).strip()\n",
    "            tag_a_Neighbourhood = td_cell.find('a')\n",
    "        counter +=1    \n",
    "        \n",
    "        #filter the Not assigned rows and check the neighbours\n",
    "        if (Postcode_content == 'Not assigned' or Borough_content == 'Not assigned' or Neighbourhood_content == 'Not assigned'):      \n",
    "            continue\n",
    "             \n",
    "    try:\n",
    "        if ((tag_a_Borough is None) or (tag_a_Neighbourhood is None)):    \n",
    "            continue\n",
    "                 \n",
    "    except:\n",
    "        pass\n",
    "    \n",
    "    if(Postcode_content == -1 or Borough_content == -1 or Neighbourhood_content == -1):\n",
    "        \n",
    "        continue   \n",
    "    Postcode.append(Postcode_content)\n",
    "    Borough.append(Borough_content)\n",
    "    Neighbourhood.append(Neighbourhood_content)"
   ]
  },
  {
   "cell_type": "code",
   "execution_count": null,
   "metadata": {},
   "outputs": [],
   "source": [
    "# make postcode as 'primary key'\n",
    "unique_postcode = set(Postcode)\n",
    "print('Unique Postal codes:', len(unique_postcode))\n",
    "Postcode_unique      = []\n",
    "Borough_unique       = []\n",
    "Neighbourhood_unique = []\n",
    "\n",
    "# integrate neighbours\n",
    "for postcode_unique_element in unique_postcode:\n",
    "    p_var = ''; b_var = ''; n_var = ''; \n",
    "    for postcode_idx, postcode_element in enumerate(Postcode):\n",
    "        if postcode_unique_element == postcode_element:\n",
    "            p_var = postcode_element;\n",
    "            b_var = Borough[postcode_idx]\n",
    "            if n_var == '': \n",
    "                n_var = Neighbourhood[postcode_idx]\n",
    "            else:\n",
    "                n_var = n_var + ', ' + Neighbourhood[postcode_idx]\n",
    "    Postcode_unique.append(p_var)\n",
    "    Borough_unique.append(b_var)\n",
    "    Neighbourhood_unique.append(n_var)"
   ]
  },
  {
   "cell_type": "code",
   "execution_count": null,
   "metadata": {},
   "outputs": [],
   "source": [
    "#transform the data into a pandas dataframe\n",
    "canada_dict = {'Postcode':Postcode_unique, 'Borough':Borough_unique, 'Neighbourhood':Neighbourhood_unique}\n",
    "df_canada = pd.DataFrame.from_dict(canada_dict)\n",
    "df_canada.to_csv('canada.csv')\n",
    "df_canada.head(12)"
   ]
  },
  {
   "cell_type": "code",
   "execution_count": null,
   "metadata": {},
   "outputs": [],
   "source": [
    "#print the number of rows \n",
    "df_canada.shape"
   ]
  }
 ],
 "metadata": {
  "kernelspec": {
   "display_name": "Python 3",
   "language": "python",
   "name": "python3"
  },
  "language_info": {
   "codemirror_mode": {
    "name": "ipython",
    "version": 3
   },
   "file_extension": ".py",
   "mimetype": "text/x-python",
   "name": "python",
   "nbconvert_exporter": "python",
   "pygments_lexer": "ipython3",
   "version": "3.6.5"
  }
 },
 "nbformat": 4,
 "nbformat_minor": 1
}
